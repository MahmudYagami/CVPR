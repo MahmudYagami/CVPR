{
  "nbformat": 4,
  "nbformat_minor": 0,
  "metadata": {
    "colab": {
      "provenance": []
    },
    "kernelspec": {
      "name": "python3",
      "display_name": "Python 3"
    },
    "language_info": {
      "name": "python"
    }
  },
  "cells": [
    {
      "cell_type": "markdown",
      "source": [
        "\n",
        "\n",
        "# **IMPLEMENTATION OF A THREE HIDDEN LAYER NEURAL NETWORK FOR MULTI-CLASS CLASSIFICATION**\n"
      ],
      "metadata": {
        "id": "edNXRYpw6cN6"
      }
    },
    {
      "cell_type": "markdown",
      "source": [
        "1. **NumPy (`np`)**: Used for numerical computations and working with arrays.  \n",
        "2. **Pandas (`pd`)**: Used for data manipulation and analysis, like handling tables or DataFrames.  \n",
        "3. **Matplotlib (`plt`)**: Used for creating visualizations like graphs and charts.  \n",
        "\n",
        "Each library serves a specific purpose in data science and machine learning workflows."
      ],
      "metadata": {
        "id": "QaVo2c-O4CqO"
      }
    },
    {
      "cell_type": "code",
      "execution_count": null,
      "metadata": {
        "id": "x9VjMmPsCorI"
      },
      "outputs": [],
      "source": [
        "import numpy as np\n",
        "import pandas as pd\n",
        "import matplotlib.pyplot as plt"
      ]
    },
    {
      "cell_type": "code",
      "source": [
        "from google.colab import drive\n",
        "drive.mount('/content/drive')"
      ],
      "metadata": {
        "colab": {
          "base_uri": "https://localhost:8080/"
        },
        "id": "_LB3GqluC7L3",
        "outputId": "4c0e5a26-09c1-4564-b885-c9894a10ed89"
      },
      "execution_count": null,
      "outputs": [
        {
          "output_type": "stream",
          "name": "stdout",
          "text": [
            "Drive already mounted at /content/drive; to attempt to forcibly remount, call drive.mount(\"/content/drive\", force_remount=True).\n"
          ]
        }
      ]
    },
    {
      "cell_type": "markdown",
      "source": [
        "Randomly Genarated data about 3 dog bread and their characteristics(Weight_kg & Height_cm) read from CSV file by using panda"
      ],
      "metadata": {
        "id": "hjMaFt0m4e5v"
      }
    },
    {
      "cell_type": "code",
      "source": [
        "data = pd.read_csv('/content/drive/MyDrive/Assignment CVPR/Assignment 2/Dog_Species_Data.csv')\n",
        "data.sample(10)"
      ],
      "metadata": {
        "colab": {
          "base_uri": "https://localhost:8080/",
          "height": 363
        },
        "id": "YaISawj9D5XP",
        "outputId": "a098381d-e10b-47e7-bed8-34c25b23caac"
      },
      "execution_count": null,
      "outputs": [
        {
          "output_type": "execute_result",
          "data": {
            "text/plain": [
              "      Species  Weight_kg  Height_cm\n",
              "298    Beagle       11.1       40.8\n",
              "347   Bulldog       21.0       37.0\n",
              "456   Bulldog       26.9       31.4\n",
              "403  Labrador       28.6       55.3\n",
              "184   Bulldog       27.6       34.1\n",
              "51   Labrador       36.9       59.3\n",
              "494   Bulldog       26.7       38.9\n",
              "368  Labrador       29.6       57.8\n",
              "394   Bulldog       27.0       30.0\n",
              "286  Labrador       38.1       55.6"
            ],
            "text/html": [
              "\n",
              "  <div id=\"df-23b709e9-d0f1-46da-87e7-311c7983d83d\" class=\"colab-df-container\">\n",
              "    <div>\n",
              "<style scoped>\n",
              "    .dataframe tbody tr th:only-of-type {\n",
              "        vertical-align: middle;\n",
              "    }\n",
              "\n",
              "    .dataframe tbody tr th {\n",
              "        vertical-align: top;\n",
              "    }\n",
              "\n",
              "    .dataframe thead th {\n",
              "        text-align: right;\n",
              "    }\n",
              "</style>\n",
              "<table border=\"1\" class=\"dataframe\">\n",
              "  <thead>\n",
              "    <tr style=\"text-align: right;\">\n",
              "      <th></th>\n",
              "      <th>Species</th>\n",
              "      <th>Weight_kg</th>\n",
              "      <th>Height_cm</th>\n",
              "    </tr>\n",
              "  </thead>\n",
              "  <tbody>\n",
              "    <tr>\n",
              "      <th>298</th>\n",
              "      <td>Beagle</td>\n",
              "      <td>11.1</td>\n",
              "      <td>40.8</td>\n",
              "    </tr>\n",
              "    <tr>\n",
              "      <th>347</th>\n",
              "      <td>Bulldog</td>\n",
              "      <td>21.0</td>\n",
              "      <td>37.0</td>\n",
              "    </tr>\n",
              "    <tr>\n",
              "      <th>456</th>\n",
              "      <td>Bulldog</td>\n",
              "      <td>26.9</td>\n",
              "      <td>31.4</td>\n",
              "    </tr>\n",
              "    <tr>\n",
              "      <th>403</th>\n",
              "      <td>Labrador</td>\n",
              "      <td>28.6</td>\n",
              "      <td>55.3</td>\n",
              "    </tr>\n",
              "    <tr>\n",
              "      <th>184</th>\n",
              "      <td>Bulldog</td>\n",
              "      <td>27.6</td>\n",
              "      <td>34.1</td>\n",
              "    </tr>\n",
              "    <tr>\n",
              "      <th>51</th>\n",
              "      <td>Labrador</td>\n",
              "      <td>36.9</td>\n",
              "      <td>59.3</td>\n",
              "    </tr>\n",
              "    <tr>\n",
              "      <th>494</th>\n",
              "      <td>Bulldog</td>\n",
              "      <td>26.7</td>\n",
              "      <td>38.9</td>\n",
              "    </tr>\n",
              "    <tr>\n",
              "      <th>368</th>\n",
              "      <td>Labrador</td>\n",
              "      <td>29.6</td>\n",
              "      <td>57.8</td>\n",
              "    </tr>\n",
              "    <tr>\n",
              "      <th>394</th>\n",
              "      <td>Bulldog</td>\n",
              "      <td>27.0</td>\n",
              "      <td>30.0</td>\n",
              "    </tr>\n",
              "    <tr>\n",
              "      <th>286</th>\n",
              "      <td>Labrador</td>\n",
              "      <td>38.1</td>\n",
              "      <td>55.6</td>\n",
              "    </tr>\n",
              "  </tbody>\n",
              "</table>\n",
              "</div>\n",
              "    <div class=\"colab-df-buttons\">\n",
              "\n",
              "  <div class=\"colab-df-container\">\n",
              "    <button class=\"colab-df-convert\" onclick=\"convertToInteractive('df-23b709e9-d0f1-46da-87e7-311c7983d83d')\"\n",
              "            title=\"Convert this dataframe to an interactive table.\"\n",
              "            style=\"display:none;\">\n",
              "\n",
              "  <svg xmlns=\"http://www.w3.org/2000/svg\" height=\"24px\" viewBox=\"0 -960 960 960\">\n",
              "    <path d=\"M120-120v-720h720v720H120Zm60-500h600v-160H180v160Zm220 220h160v-160H400v160Zm0 220h160v-160H400v160ZM180-400h160v-160H180v160Zm440 0h160v-160H620v160ZM180-180h160v-160H180v160Zm440 0h160v-160H620v160Z\"/>\n",
              "  </svg>\n",
              "    </button>\n",
              "\n",
              "  <style>\n",
              "    .colab-df-container {\n",
              "      display:flex;\n",
              "      gap: 12px;\n",
              "    }\n",
              "\n",
              "    .colab-df-convert {\n",
              "      background-color: #E8F0FE;\n",
              "      border: none;\n",
              "      border-radius: 50%;\n",
              "      cursor: pointer;\n",
              "      display: none;\n",
              "      fill: #1967D2;\n",
              "      height: 32px;\n",
              "      padding: 0 0 0 0;\n",
              "      width: 32px;\n",
              "    }\n",
              "\n",
              "    .colab-df-convert:hover {\n",
              "      background-color: #E2EBFA;\n",
              "      box-shadow: 0px 1px 2px rgba(60, 64, 67, 0.3), 0px 1px 3px 1px rgba(60, 64, 67, 0.15);\n",
              "      fill: #174EA6;\n",
              "    }\n",
              "\n",
              "    .colab-df-buttons div {\n",
              "      margin-bottom: 4px;\n",
              "    }\n",
              "\n",
              "    [theme=dark] .colab-df-convert {\n",
              "      background-color: #3B4455;\n",
              "      fill: #D2E3FC;\n",
              "    }\n",
              "\n",
              "    [theme=dark] .colab-df-convert:hover {\n",
              "      background-color: #434B5C;\n",
              "      box-shadow: 0px 1px 3px 1px rgba(0, 0, 0, 0.15);\n",
              "      filter: drop-shadow(0px 1px 2px rgba(0, 0, 0, 0.3));\n",
              "      fill: #FFFFFF;\n",
              "    }\n",
              "  </style>\n",
              "\n",
              "    <script>\n",
              "      const buttonEl =\n",
              "        document.querySelector('#df-23b709e9-d0f1-46da-87e7-311c7983d83d button.colab-df-convert');\n",
              "      buttonEl.style.display =\n",
              "        google.colab.kernel.accessAllowed ? 'block' : 'none';\n",
              "\n",
              "      async function convertToInteractive(key) {\n",
              "        const element = document.querySelector('#df-23b709e9-d0f1-46da-87e7-311c7983d83d');\n",
              "        const dataTable =\n",
              "          await google.colab.kernel.invokeFunction('convertToInteractive',\n",
              "                                                    [key], {});\n",
              "        if (!dataTable) return;\n",
              "\n",
              "        const docLinkHtml = 'Like what you see? Visit the ' +\n",
              "          '<a target=\"_blank\" href=https://colab.research.google.com/notebooks/data_table.ipynb>data table notebook</a>'\n",
              "          + ' to learn more about interactive tables.';\n",
              "        element.innerHTML = '';\n",
              "        dataTable['output_type'] = 'display_data';\n",
              "        await google.colab.output.renderOutput(dataTable, element);\n",
              "        const docLink = document.createElement('div');\n",
              "        docLink.innerHTML = docLinkHtml;\n",
              "        element.appendChild(docLink);\n",
              "      }\n",
              "    </script>\n",
              "  </div>\n",
              "\n",
              "\n",
              "<div id=\"df-5a40795c-3b50-45e1-ba24-87652f244f38\">\n",
              "  <button class=\"colab-df-quickchart\" onclick=\"quickchart('df-5a40795c-3b50-45e1-ba24-87652f244f38')\"\n",
              "            title=\"Suggest charts\"\n",
              "            style=\"display:none;\">\n",
              "\n",
              "<svg xmlns=\"http://www.w3.org/2000/svg\" height=\"24px\"viewBox=\"0 0 24 24\"\n",
              "     width=\"24px\">\n",
              "    <g>\n",
              "        <path d=\"M19 3H5c-1.1 0-2 .9-2 2v14c0 1.1.9 2 2 2h14c1.1 0 2-.9 2-2V5c0-1.1-.9-2-2-2zM9 17H7v-7h2v7zm4 0h-2V7h2v10zm4 0h-2v-4h2v4z\"/>\n",
              "    </g>\n",
              "</svg>\n",
              "  </button>\n",
              "\n",
              "<style>\n",
              "  .colab-df-quickchart {\n",
              "      --bg-color: #E8F0FE;\n",
              "      --fill-color: #1967D2;\n",
              "      --hover-bg-color: #E2EBFA;\n",
              "      --hover-fill-color: #174EA6;\n",
              "      --disabled-fill-color: #AAA;\n",
              "      --disabled-bg-color: #DDD;\n",
              "  }\n",
              "\n",
              "  [theme=dark] .colab-df-quickchart {\n",
              "      --bg-color: #3B4455;\n",
              "      --fill-color: #D2E3FC;\n",
              "      --hover-bg-color: #434B5C;\n",
              "      --hover-fill-color: #FFFFFF;\n",
              "      --disabled-bg-color: #3B4455;\n",
              "      --disabled-fill-color: #666;\n",
              "  }\n",
              "\n",
              "  .colab-df-quickchart {\n",
              "    background-color: var(--bg-color);\n",
              "    border: none;\n",
              "    border-radius: 50%;\n",
              "    cursor: pointer;\n",
              "    display: none;\n",
              "    fill: var(--fill-color);\n",
              "    height: 32px;\n",
              "    padding: 0;\n",
              "    width: 32px;\n",
              "  }\n",
              "\n",
              "  .colab-df-quickchart:hover {\n",
              "    background-color: var(--hover-bg-color);\n",
              "    box-shadow: 0 1px 2px rgba(60, 64, 67, 0.3), 0 1px 3px 1px rgba(60, 64, 67, 0.15);\n",
              "    fill: var(--button-hover-fill-color);\n",
              "  }\n",
              "\n",
              "  .colab-df-quickchart-complete:disabled,\n",
              "  .colab-df-quickchart-complete:disabled:hover {\n",
              "    background-color: var(--disabled-bg-color);\n",
              "    fill: var(--disabled-fill-color);\n",
              "    box-shadow: none;\n",
              "  }\n",
              "\n",
              "  .colab-df-spinner {\n",
              "    border: 2px solid var(--fill-color);\n",
              "    border-color: transparent;\n",
              "    border-bottom-color: var(--fill-color);\n",
              "    animation:\n",
              "      spin 1s steps(1) infinite;\n",
              "  }\n",
              "\n",
              "  @keyframes spin {\n",
              "    0% {\n",
              "      border-color: transparent;\n",
              "      border-bottom-color: var(--fill-color);\n",
              "      border-left-color: var(--fill-color);\n",
              "    }\n",
              "    20% {\n",
              "      border-color: transparent;\n",
              "      border-left-color: var(--fill-color);\n",
              "      border-top-color: var(--fill-color);\n",
              "    }\n",
              "    30% {\n",
              "      border-color: transparent;\n",
              "      border-left-color: var(--fill-color);\n",
              "      border-top-color: var(--fill-color);\n",
              "      border-right-color: var(--fill-color);\n",
              "    }\n",
              "    40% {\n",
              "      border-color: transparent;\n",
              "      border-right-color: var(--fill-color);\n",
              "      border-top-color: var(--fill-color);\n",
              "    }\n",
              "    60% {\n",
              "      border-color: transparent;\n",
              "      border-right-color: var(--fill-color);\n",
              "    }\n",
              "    80% {\n",
              "      border-color: transparent;\n",
              "      border-right-color: var(--fill-color);\n",
              "      border-bottom-color: var(--fill-color);\n",
              "    }\n",
              "    90% {\n",
              "      border-color: transparent;\n",
              "      border-bottom-color: var(--fill-color);\n",
              "    }\n",
              "  }\n",
              "</style>\n",
              "\n",
              "  <script>\n",
              "    async function quickchart(key) {\n",
              "      const quickchartButtonEl =\n",
              "        document.querySelector('#' + key + ' button');\n",
              "      quickchartButtonEl.disabled = true;  // To prevent multiple clicks.\n",
              "      quickchartButtonEl.classList.add('colab-df-spinner');\n",
              "      try {\n",
              "        const charts = await google.colab.kernel.invokeFunction(\n",
              "            'suggestCharts', [key], {});\n",
              "      } catch (error) {\n",
              "        console.error('Error during call to suggestCharts:', error);\n",
              "      }\n",
              "      quickchartButtonEl.classList.remove('colab-df-spinner');\n",
              "      quickchartButtonEl.classList.add('colab-df-quickchart-complete');\n",
              "    }\n",
              "    (() => {\n",
              "      let quickchartButtonEl =\n",
              "        document.querySelector('#df-5a40795c-3b50-45e1-ba24-87652f244f38 button');\n",
              "      quickchartButtonEl.style.display =\n",
              "        google.colab.kernel.accessAllowed ? 'block' : 'none';\n",
              "    })();\n",
              "  </script>\n",
              "</div>\n",
              "\n",
              "    </div>\n",
              "  </div>\n"
            ],
            "application/vnd.google.colaboratory.intrinsic+json": {
              "type": "dataframe",
              "summary": "{\n  \"name\": \"data\",\n  \"rows\": 10,\n  \"fields\": [\n    {\n      \"column\": \"Species\",\n      \"properties\": {\n        \"dtype\": \"category\",\n        \"num_unique_values\": 3,\n        \"samples\": [\n          \"Beagle\",\n          \"Bulldog\",\n          \"Labrador\"\n        ],\n        \"semantic_type\": \"\",\n        \"description\": \"\"\n      }\n    },\n    {\n      \"column\": \"Weight_kg\",\n      \"properties\": {\n        \"dtype\": \"number\",\n        \"std\": 7.590820479734424,\n        \"min\": 11.1,\n        \"max\": 38.1,\n        \"num_unique_values\": 10,\n        \"samples\": [\n          27.0,\n          21.0,\n          36.9\n        ],\n        \"semantic_type\": \"\",\n        \"description\": \"\"\n      }\n    },\n    {\n      \"column\": \"Height_cm\",\n      \"properties\": {\n        \"dtype\": \"number\",\n        \"std\": 11.665695197648722,\n        \"min\": 30.0,\n        \"max\": 59.3,\n        \"num_unique_values\": 10,\n        \"samples\": [\n          30.0,\n          37.0,\n          59.3\n        ],\n        \"semantic_type\": \"\",\n        \"description\": \"\"\n      }\n    }\n  ]\n}"
            }
          },
          "metadata": {},
          "execution_count": 62
        }
      ]
    },
    {
      "cell_type": "markdown",
      "source": [
        "This code snippet extracts data from a Pandas DataFrame (`data`) and prepares it for further analysis or modeling.\n",
        "\n",
        "1. **`X = data[['Weight_kg', 'Height_cm']].values`**:\n",
        "   - Selects two columns, **`Weight_kg`** and **`Height_cm`**, from the DataFrame as the **features** (independent variables).\n",
        "   - **`.values`** converts these columns into a NumPy array, which is commonly used for mathematical operations in machine learning.\n",
        "\n",
        "2. **`y = data['Species'].values`**:\n",
        "   - Selects the column **`Species`** from the DataFrame as the **target** (dependent variable).\n",
        "   - Converts it into a NumPy array for compatibility with machine learning algorithms.\n",
        "\n",
        "**Purpose**:  \n",
        "- `X` holds the input features (e.g., weight and height).  \n",
        "- `y` holds the corresponding output labels (e.g., species of an animal or plant).  \n",
        "This structure is typical for supervised learning tasks like classification or regression."
      ],
      "metadata": {
        "id": "SD7WH-Q04qrY"
      }
    },
    {
      "cell_type": "code",
      "source": [
        "X = data[['Weight_kg', 'Height_cm']].values\n",
        "y = data['Species'].values"
      ],
      "metadata": {
        "id": "8yzmiZBBEn0J"
      },
      "execution_count": null,
      "outputs": []
    },
    {
      "cell_type": "markdown",
      "source": [
        "This code snippet processes the `y` target array to encode its labels into numerical values for machine learning algorithms, which often require numeric inputs. Here's a breakdown:\n",
        "\n",
        "### Explanation:\n",
        "\n",
        "1. **`classes = list(set(y))`**:\n",
        "   - Converts the `y` array into a set to find all unique labels (e.g., species names).\n",
        "   - Converts the set back to a list to create an ordered collection of unique labels.\n",
        "   - **Example**: If `y = ['cat', 'dog', 'cat', 'bird']`, `classes = ['cat', 'dog', 'bird']` (order may vary).\n",
        "\n",
        "2. **`y_encoded = [classes.index(label) for label in y]`**:\n",
        "   - Loops through each label in `y`.\n",
        "   - Finds the index of the label in the `classes` list and stores it in `y_encoded`.\n",
        "   - Effectively transforms string labels into numeric values.\n",
        "   - **Example**: For `y = ['cat', 'dog', 'cat', 'bird']`:\n",
        "     - `classes = ['cat', 'dog', 'bird']`\n",
        "     - `y_encoded = [0, 1, 0, 2]`\n",
        "\n",
        "3. **`print(classes)`**:\n",
        "   - Prints the unique class labels.\n",
        "   - **Example output**: `['cat', 'dog', 'bird']`.\n",
        "\n",
        "4. **`print(y_encoded[:10])`**:\n",
        "   - Prints the first 10 encoded values of `y`.\n",
        "   - **Example output**: `[0, 1, 0, 2]`.\n",
        "\n",
        "### Purpose:\n",
        "This code prepares the categorical labels (`y`) for machine learning models by converting them into numerical representations. This step is necessary for algorithms that cannot process string labels directly."
      ],
      "metadata": {
        "id": "yy5Z0SFS4w-7"
      }
    },
    {
      "cell_type": "code",
      "source": [
        "classes = list(set(y))\n",
        "y_encoded = [classes.index(label) for label in y]\n",
        "print(classes)\n",
        "print(y_encoded[:10])"
      ],
      "metadata": {
        "colab": {
          "base_uri": "https://localhost:8080/"
        },
        "id": "LGCQShoPFHhT",
        "outputId": "9d805689-4513-4ef8-c5af-44bc3f0158af"
      },
      "execution_count": null,
      "outputs": [
        {
          "output_type": "stream",
          "name": "stdout",
          "text": [
            "['Beagle', 'Labrador', 'Bulldog']\n",
            "[0, 1, 2, 2, 2, 0, 0, 0, 0, 1]\n"
          ]
        }
      ]
    },
    {
      "cell_type": "markdown",
      "source": [
        "This snippet converts the encoded labels (`y_encoded`) into a **one-hot encoded** format, a common representation for categorical data in machine learning.\n",
        "\n",
        "### Explanation:\n",
        "\n",
        "1. **`y_one_hot = []`**:\n",
        "   - Initializes an empty list to store the one-hot encoded vectors.\n",
        "\n",
        "2. **`for label in y_encoded:`**:\n",
        "   - Iterates over the list of numeric labels (`y_encoded`).\n",
        "\n",
        "3. **`one_hot = [0] * len(classes)`**:\n",
        "   - Creates a list of zeros with a length equal to the number of unique classes (from `classes`).\n",
        "\n",
        "4. **`one_hot[label] = 1`**:\n",
        "   - Sets the index corresponding to the label to `1`. This creates the one-hot encoded vector for that label.\n",
        "   - **Example**: If `label = 2` and `len(classes) = 3`, `one_hot` becomes `[0, 0, 1]`.\n",
        "\n",
        "5. **`y_one_hot.append(one_hot)`**:\n",
        "   - Appends the one-hot encoded vector to the `y_one_hot` list.\n",
        "\n",
        "6. **`print(len(y_one_hot), len(y_one_hot[0]))`**:\n",
        "   - Prints the number of one-hot encoded vectors (should match the number of samples in `y`).\n",
        "   - Prints the length of each one-hot encoded vector (should match the number of unique classes).\n",
        "\n",
        "7. **`print(y_one_hot[10:])`**:\n",
        "   - Prints the one-hot encoded vectors starting from index 10 onward.\n",
        "\n",
        "### Purpose:\n",
        "This step is used in machine learning, especially for classification tasks where the model outputs probabilities for each class. The one-hot encoded format is a standard way to represent categorical labels for algorithms like neural networks."
      ],
      "metadata": {
        "id": "qKYddT1o5Ck0"
      }
    },
    {
      "cell_type": "code",
      "source": [
        "y_one_hot = []\n",
        "for label in y_encoded:\n",
        "    one_hot = [0] * len(classes)\n",
        "    one_hot[label] = 1\n",
        "    y_one_hot.append(one_hot)\n",
        "\n",
        "print(len(y_one_hot), len(y_one_hot[0]))\n",
        "print(y_one_hot[10:])"
      ],
      "metadata": {
        "colab": {
          "base_uri": "https://localhost:8080/"
        },
        "id": "PQrixrJNFOmr",
        "outputId": "e6c49185-e02e-4664-9a4d-fa51721fa8fc"
      },
      "execution_count": null,
      "outputs": [
        {
          "output_type": "stream",
          "name": "stdout",
          "text": [
            "500 3\n",
            "[[0, 0, 1], [1, 0, 0], [0, 0, 1], [1, 0, 0], [1, 0, 0], [0, 1, 0], [0, 1, 0], [0, 0, 1], [0, 0, 1], [0, 1, 0], [0, 1, 0], [1, 0, 0], [0, 1, 0], [0, 0, 1], [0, 0, 1], [0, 1, 0], [0, 0, 1], [0, 0, 1], [1, 0, 0], [1, 0, 0], [0, 1, 0], [0, 1, 0], [0, 1, 0], [1, 0, 0], [0, 0, 1], [1, 0, 0], [1, 0, 0], [0, 0, 1], [0, 1, 0], [1, 0, 0], [1, 0, 0], [0, 0, 1], [0, 1, 0], [1, 0, 0], [0, 0, 1], [0, 1, 0], [0, 1, 0], [1, 0, 0], [0, 1, 0], [0, 1, 0], [1, 0, 0], [0, 1, 0], [1, 0, 0], [0, 1, 0], [0, 0, 1], [0, 0, 1], [0, 1, 0], [0, 0, 1], [1, 0, 0], [1, 0, 0], [1, 0, 0], [0, 0, 1], [1, 0, 0], [0, 0, 1], [1, 0, 0], [1, 0, 0], [1, 0, 0], [0, 1, 0], [0, 1, 0], [1, 0, 0], [0, 0, 1], [0, 1, 0], [1, 0, 0], [1, 0, 0], [0, 1, 0], [1, 0, 0], [1, 0, 0], [0, 0, 1], [1, 0, 0], [0, 1, 0], [0, 0, 1], [0, 1, 0], [0, 1, 0], [0, 0, 1], [1, 0, 0], [0, 0, 1], [0, 0, 1], [1, 0, 0], [0, 0, 1], [0, 0, 1], [0, 0, 1], [0, 0, 1], [1, 0, 0], [0, 0, 1], [1, 0, 0], [1, 0, 0], [1, 0, 0], [0, 1, 0], [0, 1, 0], [0, 1, 0], [0, 0, 1], [0, 1, 0], [1, 0, 0], [0, 0, 1], [1, 0, 0], [0, 0, 1], [1, 0, 0], [1, 0, 0], [0, 0, 1], [0, 1, 0], [0, 0, 1], [0, 0, 1], [1, 0, 0], [0, 0, 1], [1, 0, 0], [0, 1, 0], [0, 1, 0], [0, 1, 0], [1, 0, 0], [0, 0, 1], [1, 0, 0], [0, 1, 0], [0, 0, 1], [1, 0, 0], [0, 1, 0], [0, 1, 0], [0, 0, 1], [0, 0, 1], [0, 1, 0], [0, 1, 0], [1, 0, 0], [0, 1, 0], [0, 0, 1], [0, 0, 1], [1, 0, 0], [0, 0, 1], [0, 1, 0], [1, 0, 0], [0, 0, 1], [0, 1, 0], [1, 0, 0], [1, 0, 0], [0, 0, 1], [0, 1, 0], [1, 0, 0], [0, 1, 0], [0, 1, 0], [0, 0, 1], [1, 0, 0], [0, 1, 0], [0, 0, 1], [1, 0, 0], [0, 1, 0], [0, 0, 1], [0, 0, 1], [0, 0, 1], [0, 0, 1], [0, 0, 1], [0, 1, 0], [1, 0, 0], [0, 0, 1], [0, 0, 1], [0, 1, 0], [1, 0, 0], [0, 1, 0], [0, 1, 0], [0, 0, 1], [0, 0, 1], [0, 0, 1], [0, 1, 0], [1, 0, 0], [0, 0, 1], [0, 1, 0], [1, 0, 0], [0, 0, 1], [0, 0, 1], [1, 0, 0], [1, 0, 0], [0, 1, 0], [1, 0, 0], [1, 0, 0], [0, 1, 0], [0, 0, 1], [0, 0, 1], [0, 0, 1], [0, 1, 0], [1, 0, 0], [0, 0, 1], [0, 0, 1], [1, 0, 0], [0, 1, 0], [0, 0, 1], [0, 1, 0], [0, 0, 1], [0, 0, 1], [1, 0, 0], [0, 1, 0], [0, 0, 1], [1, 0, 0], [0, 0, 1], [0, 0, 1], [0, 0, 1], [0, 1, 0], [0, 0, 1], [0, 1, 0], [0, 0, 1], [0, 0, 1], [0, 0, 1], [1, 0, 0], [1, 0, 0], [0, 0, 1], [0, 0, 1], [0, 0, 1], [0, 0, 1], [0, 1, 0], [0, 1, 0], [0, 0, 1], [0, 1, 0], [1, 0, 0], [1, 0, 0], [0, 0, 1], [1, 0, 0], [1, 0, 0], [0, 0, 1], [0, 0, 1], [0, 1, 0], [0, 1, 0], [0, 0, 1], [0, 1, 0], [1, 0, 0], [1, 0, 0], [0, 1, 0], [0, 1, 0], [1, 0, 0], [0, 1, 0], [0, 1, 0], [0, 0, 1], [0, 0, 1], [0, 1, 0], [0, 1, 0], [0, 1, 0], [1, 0, 0], [0, 0, 1], [0, 0, 1], [0, 0, 1], [1, 0, 0], [1, 0, 0], [1, 0, 0], [0, 1, 0], [0, 0, 1], [1, 0, 0], [0, 0, 1], [0, 1, 0], [0, 1, 0], [0, 0, 1], [0, 0, 1], [0, 0, 1], [0, 0, 1], [1, 0, 0], [0, 0, 1], [1, 0, 0], [0, 1, 0], [0, 1, 0], [0, 1, 0], [0, 0, 1], [0, 1, 0], [0, 0, 1], [1, 0, 0], [1, 0, 0], [0, 1, 0], [0, 1, 0], [0, 1, 0], [0, 0, 1], [0, 1, 0], [0, 1, 0], [0, 0, 1], [1, 0, 0], [0, 1, 0], [0, 1, 0], [0, 0, 1], [1, 0, 0], [0, 1, 0], [0, 1, 0], [0, 0, 1], [1, 0, 0], [0, 1, 0], [0, 1, 0], [0, 1, 0], [0, 0, 1], [1, 0, 0], [1, 0, 0], [1, 0, 0], [1, 0, 0], [0, 0, 1], [1, 0, 0], [0, 0, 1], [0, 0, 1], [1, 0, 0], [1, 0, 0], [1, 0, 0], [1, 0, 0], [1, 0, 0], [0, 1, 0], [0, 0, 1], [0, 0, 1], [1, 0, 0], [0, 0, 1], [0, 1, 0], [0, 1, 0], [0, 1, 0], [0, 0, 1], [0, 1, 0], [1, 0, 0], [0, 0, 1], [1, 0, 0], [0, 0, 1], [0, 0, 1], [0, 1, 0], [0, 0, 1], [1, 0, 0], [1, 0, 0], [0, 0, 1], [0, 1, 0], [0, 1, 0], [0, 1, 0], [0, 1, 0], [0, 1, 0], [1, 0, 0], [1, 0, 0], [1, 0, 0], [0, 0, 1], [0, 0, 1], [0, 1, 0], [1, 0, 0], [0, 0, 1], [0, 1, 0], [0, 0, 1], [0, 0, 1], [0, 1, 0], [0, 0, 1], [0, 1, 0], [0, 0, 1], [0, 1, 0], [0, 1, 0], [1, 0, 0], [1, 0, 0], [1, 0, 0], [0, 0, 1], [0, 0, 1], [0, 1, 0], [0, 0, 1], [0, 0, 1], [1, 0, 0], [0, 1, 0], [1, 0, 0], [1, 0, 0], [0, 1, 0], [1, 0, 0], [0, 0, 1], [1, 0, 0], [1, 0, 0], [0, 1, 0], [0, 0, 1], [0, 0, 1], [0, 1, 0], [0, 0, 1], [1, 0, 0], [1, 0, 0], [0, 1, 0], [0, 0, 1], [1, 0, 0], [0, 1, 0], [0, 1, 0], [0, 1, 0], [1, 0, 0], [1, 0, 0], [0, 0, 1], [0, 0, 1], [1, 0, 0], [0, 1, 0], [0, 1, 0], [1, 0, 0], [0, 1, 0], [0, 0, 1], [1, 0, 0], [0, 0, 1], [1, 0, 0], [0, 1, 0], [0, 1, 0], [1, 0, 0], [0, 1, 0], [1, 0, 0], [0, 1, 0], [0, 1, 0], [0, 0, 1], [1, 0, 0], [1, 0, 0], [0, 1, 0], [0, 1, 0], [0, 0, 1], [1, 0, 0], [0, 0, 1], [0, 1, 0], [0, 1, 0], [0, 1, 0], [1, 0, 0], [1, 0, 0], [1, 0, 0], [0, 1, 0], [0, 1, 0], [0, 0, 1], [0, 0, 1], [0, 1, 0], [0, 1, 0], [0, 1, 0], [1, 0, 0], [0, 1, 0], [1, 0, 0], [1, 0, 0], [1, 0, 0], [0, 0, 1], [1, 0, 0], [1, 0, 0], [0, 0, 1], [0, 0, 1], [1, 0, 0], [0, 0, 1], [1, 0, 0], [1, 0, 0], [0, 1, 0], [0, 0, 1], [1, 0, 0], [0, 1, 0], [0, 1, 0], [1, 0, 0], [0, 0, 1], [1, 0, 0], [0, 1, 0], [0, 1, 0], [0, 0, 1], [0, 1, 0], [0, 0, 1], [0, 0, 1], [1, 0, 0], [1, 0, 0], [0, 0, 1], [1, 0, 0], [0, 0, 1], [0, 1, 0], [1, 0, 0], [0, 0, 1], [0, 1, 0], [0, 1, 0], [0, 0, 1], [0, 0, 1], [1, 0, 0], [0, 0, 1], [0, 0, 1], [0, 1, 0], [0, 0, 1], [1, 0, 0], [0, 1, 0], [0, 1, 0], [0, 0, 1], [0, 0, 1], [1, 0, 0], [1, 0, 0], [0, 0, 1], [1, 0, 0], [0, 1, 0], [1, 0, 0], [0, 0, 1], [0, 1, 0], [0, 1, 0], [0, 0, 1], [0, 0, 1], [0, 0, 1], [0, 1, 0], [0, 0, 1], [0, 1, 0], [1, 0, 0], [0, 0, 1], [0, 0, 1], [0, 1, 0], [1, 0, 0], [1, 0, 0], [1, 0, 0], [0, 0, 1], [1, 0, 0], [0, 1, 0], [1, 0, 0], [0, 0, 1], [1, 0, 0], [0, 1, 0], [0, 0, 1], [0, 1, 0], [0, 1, 0], [1, 0, 0], [0, 0, 1], [0, 1, 0]]\n"
          ]
        }
      ]
    },
    {
      "cell_type": "markdown",
      "source": [
        "This code processes a CSV file containing dog species data to prepare it for analysis and visualization:\n",
        "\n",
        "1. **Load Data**: Reads a CSV file into a Pandas DataFrame.\n",
        "2. **Extract Features and Labels**: `X` contains features (e.g., weight and height), and `y` contains species labels.\n",
        "3. **Encode Labels**: Converts species names (`y`) into numeric encoded labels and one-hot encodes them.\n",
        "4. **Print Details**: Outputs classes, encoded labels, and the shape of the one-hot encoded labels for verification.\n",
        "5. **Scatter Plot**: Visualizes the relationship between weight and height for different dog species using a scatter plot.\n",
        "\n",
        "The plot distinguishes species using different markers and colors."
      ],
      "metadata": {
        "id": "CWzdJHkZ5cjw"
      }
    },
    {
      "cell_type": "code",
      "source": [
        "file_path = \"/content/drive/MyDrive/Assignment CVPR/Assignment 2/Dog_Species_Data.csv\"\n",
        "data = pd.read_csv(file_path)\n",
        "\n",
        "# Extract features (X) and labels (y)\n",
        "X = data.iloc[:, 1:].values\n",
        "y = data.iloc[:, 0].values\n",
        "\n",
        "# Encode classes\n",
        "classes, y_encoded = np.unique(y, return_inverse=True)\n",
        "\n",
        "# One-hot encode labels\n",
        "y_one_hot = np.eye(len(classes))[y_encoded]\n",
        "\n",
        "# Print classes, encoded labels, and one-hot encoding details\n",
        "print(\"Classes:\", classes)\n",
        "print(\"Encoded Labels (first 10):\", y_encoded[:10])\n",
        "print(\"Shape of One-Hot Encoded Labels:\", y_one_hot.shape)\n",
        "print(\"Example One-Hot Encoded Labels (after 10th row):\", y_one_hot[10:15])\n",
        "\n",
        "# Scatter plot of features\n",
        "plt.figure(figsize=(10, 6))\n",
        "for class_idx, class_name in enumerate(classes):\n",
        "    plt.scatter(\n",
        "        X[y_encoded == class_idx, 0],  # Weight feature\n",
        "        X[y_encoded == class_idx, 1],  # Height feature\n",
        "        label=class_name,\n",
        "        alpha=0.7\n",
        "    )\n",
        "\n",
        "# Add plot details\n",
        "plt.title(\"Scatter Plot of Dog Species Characteristics\")\n",
        "plt.xlabel(\"Weight (kg)\")\n",
        "plt.ylabel(\"Height (cm)\")\n",
        "plt.legend()\n",
        "plt.grid(True)\n",
        "plt.show()\n"
      ],
      "metadata": {
        "colab": {
          "base_uri": "https://localhost:8080/",
          "height": 707
        },
        "id": "ErcHc2CWGIE8",
        "outputId": "bffac885-56dc-4491-e4d0-bf32c8831eed"
      },
      "execution_count": null,
      "outputs": [
        {
          "output_type": "stream",
          "name": "stdout",
          "text": [
            "Classes: ['Beagle' 'Bulldog' 'Labrador']\n",
            "Encoded Labels (first 10): [0 2 1 1 1 0 0 0 0 2]\n",
            "Shape of One-Hot Encoded Labels: (500, 3)\n",
            "Example One-Hot Encoded Labels (after 10th row): [[0. 1. 0.]\n",
            " [1. 0. 0.]\n",
            " [0. 1. 0.]\n",
            " [1. 0. 0.]\n",
            " [1. 0. 0.]]\n"
          ]
        },
        {
          "output_type": "display_data",
          "data": {
            "text/plain": [
              "<Figure size 1000x600 with 1 Axes>"
            ],
            "image/png": "[encoded data removed]"
          },
          "metadata": {}
        }
      ]
    },
    {
      "cell_type": "markdown",
      "source": [
        "This code splits the dataset into training and test sets for model evaluation:\n",
        "\n",
        "1. **Shuffle Data**: Randomly shuffles the data using `np.random.permutation` to ensure the split is not biased.\n",
        "2. **Define Split Ratio**: Sets 80% of the data for training and 20% for testing.\n",
        "3. **Split Indices**:\n",
        "   - Divides the shuffled indices into training (`train_indices`) and test (`test_indices`) based on the split ratio.\n",
        "4. **Split Data**:\n",
        "   - Uses the indices to split the feature matrix `X` and one-hot encoded labels `y_one_hot` into training and test sets.\n",
        "   - `X_train`, `y_train`: Training data.\n",
        "   - `X_test`, `y_test`: Test data.\n",
        "5. **Print Shapes**: Displays the shapes of the training and test datasets for verification.\n",
        "\n",
        "### Purpose:\n",
        "Prepares separate training and test datasets, ensuring randomness and proper proportions, which is essential for building and evaluating machine learning models."
      ],
      "metadata": {
        "id": "ywBTzaAi5nPX"
      }
    },
    {
      "cell_type": "code",
      "source": [
        "# Shuffles the data by generating random indices\n",
        "indices = np.random.permutation(len(X))\n",
        "\n",
        "# Defines the split ratio (80% train, 20% test)\n",
        "split_ratio = 0.8\n",
        "train_size = int(len(X) * split_ratio)\n",
        "\n",
        "# Splits the indices into training and test sets\n",
        "train_indices = indices[:train_size]\n",
        "test_indices = indices[train_size:]\n",
        "\n",
        "X_train = X[train_indices]\n",
        "X_test = X[test_indices]\n",
        "y_train = y_one_hot[train_indices]\n",
        "y_test = y_one_hot[test_indices]\n",
        "\n",
        "print(f'X_train shape: {X_train.shape}')\n",
        "print(f'X_test shape: {X_test.shape}')\n",
        "print(f'y_train shape: {y_train.shape}')\n",
        "print(f'y_test shape: {y_test.shape}')"
      ],
      "metadata": {
        "colab": {
          "base_uri": "https://localhost:8080/"
        },
        "id": "qjAJEvzLGaBd",
        "outputId": "9c7b9161-c8f0-4f64-ede4-ecd7b216ad47"
      },
      "execution_count": null,
      "outputs": [
        {
          "output_type": "stream",
          "name": "stdout",
          "text": [
            "X_train shape: (400, 2)\n",
            "X_test shape: (100, 2)\n",
            "y_train shape: (400, 3)\n",
            "y_test shape: (100, 3)\n"
          ]
        }
      ]
    },
    {
      "cell_type": "markdown",
      "source": [
        "This code normalizes the features in the dataset, ensuring they have a mean of 0 and a standard deviation of 1, which is essential for many machine learning models. Here's what it does:\n",
        "\n",
        "1. **`normalize_features(X)`**:\n",
        "   - **Compute Feature Means**: Calculates the mean of each feature (column) across all samples (rows).\n",
        "   - **Compute Feature Standard Deviations (STDs)**: Calculates the standard deviation for each feature.\n",
        "   - **Normalize Features**: Scales each feature value by subtracting its mean and dividing by its standard deviation:  \n",
        "     \\[\n",
        "     x_{\\text{normalized}} = \\frac{x - \\text{mean}}{\\text{std}}\n",
        "     \\]\n",
        "\n",
        "2. **Normalize Training and Test Data**:\n",
        "   - Calls `normalize_features` for `X_train` and `X_test`.\n",
        "   - Converts the normalized data to NumPy arrays for compatibility with machine learning libraries.\n",
        "\n",
        "3. **Print Examples**:\n",
        "   - Prints the first 10 rows of the normalized training and test datasets for inspection.\n",
        "\n",
        "### Purpose:\n",
        "Normalization ensures all features contribute equally to the model, preventing features with larger scales from dominating the learning process."
      ],
      "metadata": {
        "id": "O1K2Un9A5sEU"
      }
    },
    {
      "cell_type": "code",
      "source": [
        "\n",
        "def normalize_features(X):\n",
        "\n",
        "    feature_means = [sum(feature) / len(feature) for feature in zip(*X)]\n",
        "\n",
        "    feature_stds = [\n",
        "        (sum((x - mean) ** 2 for x in feature) / len(feature)) ** 0.5\n",
        "        for feature, mean in zip(zip(*X), feature_means)\n",
        "    ]\n",
        "\n",
        "    X_normalized = [\n",
        "        [(x - mean) / std for x, mean, std in zip(row, feature_means, feature_stds)]\n",
        "        for row in X\n",
        "    ]\n",
        "\n",
        "    return X_normalized\n",
        "\n",
        "\n",
        "# Convert the normalized data to NumPy arrays\n",
        "X_train_normalized = np.array(normalize_features(X_train))\n",
        "X_test_normalized = np.array(normalize_features(X_test))\n",
        "\n",
        "print(X_train_normalized[:10])\n",
        "print()\n",
        "print(X_test_normalized[:10])"
      ],
      "metadata": {
        "colab": {
          "base_uri": "https://localhost:8080/"
        },
        "id": "rxIMCa-LGdOS",
        "outputId": "b36a5a23-9d3d-4143-d559-77374fddf3ca"
      },
      "execution_count": null,
      "outputs": [
        {
          "output_type": "stream",
          "name": "stdout",
          "text": [
            "[[ 1.22024835  1.49361328]\n",
            " [ 0.39765102  1.08712906]\n",
            " [-1.37574061 -0.31394419]\n",
            " [-1.31164211 -0.28799839]\n",
            " [-1.18344513 -0.77232001]\n",
            " [ 0.23740479  1.82226009]\n",
            " [-1.31164211 -0.512862  ]\n",
            " [-0.27538315 -0.70313121]\n",
            " [-1.57871917 -0.6339424 ]\n",
            " [ 0.32286945  0.98334586]]\n",
            "\n",
            "[[ 1.64500981  1.28606402]\n",
            " [-1.24491568 -0.28295905]\n",
            " [-0.08894548 -0.6484701 ]\n",
            " [-0.23879347 -0.58606578]\n",
            " [-1.27702596 -0.6306403 ]\n",
            " [ 1.09913499  1.82095825]\n",
            " [-1.04155055 -0.62172539]\n",
            " [ 0.23215735  1.33955345]\n",
            " [ 0.31778477 -0.45234222]\n",
            " [-0.01402149 -0.48800183]]\n"
          ]
        }
      ]
    },
    {
      "cell_type": "markdown",
      "source": [
        "**Implementation of a Fully Connected Neural Network with Custom Activation and Backpropagation**"
      ],
      "metadata": {
        "id": "rYJsn4en59be"
      }
    },
    {
      "cell_type": "code",
      "source": [
        "class NeuralNetwork:\n",
        "    def __init__(self):\n",
        "        inputLayerNeurons = 2\n",
        "        hiddenLayer1Neurons = 15\n",
        "        hiddenLayer2Neurons = 15\n",
        "        hiddenLayer3Neurons = 15\n",
        "        outputLayerNeurons = 3\n",
        "        self.learning_rate = 0.00001\n",
        "\n",
        "        self.W_H1 = np.random.randn(inputLayerNeurons, hiddenLayer1Neurons)\n",
        "        self.W_H2 = np.random.randn(hiddenLayer1Neurons, hiddenLayer2Neurons)\n",
        "        self.W_H3 = np.random.randn(hiddenLayer2Neurons, hiddenLayer3Neurons)\n",
        "        self.W_O = np.random.randn(hiddenLayer3Neurons, outputLayerNeurons)\n",
        "\n",
        "        self.b_H1 = np.random.randn(1, hiddenLayer1Neurons)\n",
        "        self.b_H2 = np.random.randn(1, hiddenLayer2Neurons)\n",
        "        self.b_H3 = np.random.randn(1, hiddenLayer3Neurons)\n",
        "        self.b_O = np.random.randn(1, outputLayerNeurons)\n",
        "\n",
        "    def erelu(self, x, der=False):\n",
        "        if der:\n",
        "            return np.where(x > 0, 1, np.exp(x))\n",
        "        else:\n",
        "             return np.where(x > 0, x, np.exp(x))\n",
        "\n",
        "    def softmax(self, x):\n",
        "        exp_x = np.exp(x - np.max(x, axis=1, keepdims=True))\n",
        "        return exp_x / np.sum(exp_x, axis=1, keepdims=True)\n",
        "\n",
        "    def feedForward(self, X):\n",
        "        # Layer 1\n",
        "        self.hidden_input1 = np.dot(X, self.W_H1) + self.b_H1\n",
        "        self.hidden_output1 = self.erelu(self.hidden_input1)\n",
        "\n",
        "        # Layer 2\n",
        "        self.hidden_input2 = np.dot(self.hidden_output1, self.W_H2) + self.b_H2\n",
        "        self.hidden_output2 = self.erelu(self.hidden_input2)\n",
        "\n",
        "        # Layer 3\n",
        "        self.hidden_input3 = np.dot(self.hidden_output2, self.W_H3) + self.b_H3\n",
        "        self.hidden_output3 = self.erelu(self.hidden_input3)\n",
        "\n",
        "        # Output layer\n",
        "        self.output_input = np.dot(self.hidden_output3, self.W_O) + self.b_O\n",
        "        pred = self.softmax(self.output_input)\n",
        "\n",
        "        return pred\n",
        "\n",
        "    def backPropagation(self, X, Y, pred):\n",
        "        # Output layer error and delta\n",
        "        output_error = Y - pred\n",
        "        output_delta = output_error\n",
        "\n",
        "        # Hidden layer 3 error and delta\n",
        "        hidden_error3 = output_delta.dot(self.W_O.T)\n",
        "        hidden_delta3 = hidden_error3 * self.erelu(self.hidden_input3, der=True)\n",
        "\n",
        "        # Hidden layer 2 error and delta\n",
        "        hidden_error2 = hidden_delta3.dot(self.W_H3.T)\n",
        "        hidden_delta2 = hidden_error2 * self.erelu(self.hidden_input2, der=True)\n",
        "\n",
        "        # Hidden layer 1 error and delta\n",
        "        hidden_error1 = hidden_delta2.dot(self.W_H2.T)\n",
        "        hidden_delta1 = hidden_error1 * self.erelu(self.hidden_input1, der=True)\n",
        "\n",
        "        # Updates weights and biases\n",
        "        self.W_O += self.learning_rate * self.hidden_output3.T.dot(output_delta)\n",
        "        self.b_O += self.learning_rate * np.sum(output_delta, axis=0, keepdims=True)\n",
        "\n",
        "        self.W_H3 += self.learning_rate * self.hidden_output2.T.dot(hidden_delta3)\n",
        "        self.b_H3 += self.learning_rate * np.sum(hidden_delta3, axis=0, keepdims=True)\n",
        "\n",
        "        self.W_H2 += self.learning_rate * self.hidden_output1.T.dot(hidden_delta2)\n",
        "        self.b_H2 += self.learning_rate * np.sum(hidden_delta2, axis=0, keepdims=True)\n",
        "\n",
        "        self.W_H1 += self.learning_rate * X.T.dot(hidden_delta1)\n",
        "        self.b_H1 += self.learning_rate * np.sum(hidden_delta1, axis=0, keepdims=True)\n",
        "\n",
        "    def train(self, X, Y):\n",
        "        # Forward pass\n",
        "        output = self.feedForward(X)\n",
        "\n",
        "        # Backward pass\n",
        "        self.backPropagation(X, Y, output)"
      ],
      "metadata": {
        "id": "OXetySpkHOU-"
      },
      "execution_count": null,
      "outputs": []
    },
    {
      "cell_type": "markdown",
      "source": [
        "\n",
        "### 1. **`categorical_cross_entropy(y_true, y_pred)`**:\n",
        "   - **Purpose**: Computes the categorical cross-entropy loss, a commonly used loss function for multi-class classification problems.\n",
        "   - **Steps**:\n",
        "     1. **Clip Predictions**: `np.clip(y_pred, 1e-9, 1 - 1e-9)` ensures numerical stability by keeping predictions in the range \\([1e-9, 1 - 1e-9]\\). This prevents issues with taking the logarithm of 0.\n",
        "     2. **Compute Loss**: Uses the formula:  \n",
        "        \\[\n",
        "        \\text{loss} = - \\frac{1}{N} \\sum (\\text{y\\_true} \\cdot \\log(\\text{y\\_pred}))\n",
        "        \\]  \n",
        "        where \\(N\\) is the number of samples. It calculates the negative log likelihood of the true class probabilities (`y_true`) based on the predicted probabilities (`y_pred`).\n",
        "   - **Output**: Returns the average loss across all samples.\n",
        "\n",
        "---\n",
        "\n",
        "### 2. **`accuracy(y_true, y_pred)`**:\n",
        "   - **Purpose**: Measures the proportion of correct predictions.\n",
        "   - **Steps**:\n",
        "     1. **Find Predicted Class**: `np.argmax(y_pred, axis=1)` retrieves the index of the highest predicted probability for each sample (predicted class).\n",
        "     2. **Find True Class**: `np.argmax(y_true, axis=1)` retrieves the index of the true class for each sample.\n",
        "     3. **Compare Classes**: Computes the percentage of samples where the predicted class matches the true class.\n",
        "   - **Output**: Returns the accuracy as a value between 0 and 1.\n",
        "\n",
        "---\n",
        "\n",
        "### Usage:\n",
        "- **`categorical_cross_entropy`** is used to penalize incorrect predictions during training.\n",
        "- **`accuracy`** provides a metric for model performance evaluation, indicating how well the model predicts the correct class."
      ],
      "metadata": {
        "id": "k8OUnFUY6KYp"
      }
    },
    {
      "cell_type": "code",
      "source": [
        "def categorical_cross_entropy(y_true, y_pred):\n",
        "    y_pred = np.clip(y_pred, 1e-9, 1 - 1e-9)\n",
        "    return -np.sum(y_true * np.log(y_pred)) / y_true.shape[0]\n",
        "\n",
        "def accuracy(y_true, y_pred):\n",
        "    return np.mean(np.argmax(y_true, axis=1) == np.argmax(y_pred, axis=1))\n",
        "\n"
      ],
      "metadata": {
        "id": "IbJUHC7jISu6"
      },
      "execution_count": null,
      "outputs": []
    },
    {
      "cell_type": "markdown",
      "source": [
        "# **Training**"
      ],
      "metadata": {
        "id": "orYgDBUF6PEH"
      }
    },
    {
      "cell_type": "code",
      "source": [
        "# Training\n",
        "NN = NeuralNetwork()\n",
        "epochs = 10000\n",
        "err = []\n",
        "acc = []\n",
        "\n",
        "for epoch in range(epochs):\n",
        "    NN.train(X_train_normalized, y_train)\n",
        "    y_pred = NN.feedForward(X_train_normalized)\n",
        "    err.append(categorical_cross_entropy(y_train, y_pred))\n",
        "    acc.append(accuracy(y_train, y_pred))\n",
        "\n",
        "    if epoch % 100 == 0:\n",
        "        print(f\"Epoch {epoch}/{epochs} - Loss: {err[epoch]:.4f}, Accuracy: {acc[epoch]:.4f}\")"
      ],
      "metadata": {
        "colab": {
          "base_uri": "https://localhost:8080/"
        },
        "id": "QrspoclIITaY",
        "outputId": "85d52345-0e45-4553-f9b2-2088c3633032"
      },
      "execution_count": null,
      "outputs": [
        {
          "output_type": "stream",
          "name": "stdout",
          "text": [
            "Epoch 0/10000 - Loss: 4.4692, Accuracy: 0.4500\n",
            "Epoch 100/10000 - Loss: 0.0433, Accuracy: 0.9825\n",
            "Epoch 200/10000 - Loss: 0.0302, Accuracy: 0.9900\n",
            "Epoch 300/10000 - Loss: 0.0253, Accuracy: 0.9900\n",
            "Epoch 400/10000 - Loss: 0.0147, Accuracy: 0.9975\n",
            "Epoch 500/10000 - Loss: 0.0084, Accuracy: 1.0000\n",
            "Epoch 600/10000 - Loss: 0.0075, Accuracy: 1.0000\n",
            "Epoch 700/10000 - Loss: 0.0055, Accuracy: 1.0000\n",
            "Epoch 800/10000 - Loss: 0.0111, Accuracy: 0.9950\n",
            "Epoch 900/10000 - Loss: 0.0050, Accuracy: 1.0000\n",
            "Epoch 1000/10000 - Loss: 0.0024, Accuracy: 1.0000\n",
            "Epoch 1100/10000 - Loss: 0.0028, Accuracy: 1.0000\n",
            "Epoch 1200/10000 - Loss: 0.0022, Accuracy: 1.0000\n",
            "Epoch 1300/10000 - Loss: 0.0024, Accuracy: 1.0000\n",
            "Epoch 1400/10000 - Loss: 0.0022, Accuracy: 1.0000\n",
            "Epoch 1500/10000 - Loss: 0.0017, Accuracy: 1.0000\n",
            "Epoch 1600/10000 - Loss: 0.0015, Accuracy: 1.0000\n",
            "Epoch 1700/10000 - Loss: 0.0013, Accuracy: 1.0000\n",
            "Epoch 1800/10000 - Loss: 0.0012, Accuracy: 1.0000\n",
            "Epoch 1900/10000 - Loss: 0.0011, Accuracy: 1.0000\n",
            "Epoch 2000/10000 - Loss: 0.0010, Accuracy: 1.0000\n",
            "Epoch 2100/10000 - Loss: 0.0010, Accuracy: 1.0000\n",
            "Epoch 2200/10000 - Loss: 0.0009, Accuracy: 1.0000\n",
            "Epoch 2300/10000 - Loss: 0.0008, Accuracy: 1.0000\n",
            "Epoch 2400/10000 - Loss: 0.0008, Accuracy: 1.0000\n",
            "Epoch 2500/10000 - Loss: 0.0008, Accuracy: 1.0000\n",
            "Epoch 2600/10000 - Loss: 0.0007, Accuracy: 1.0000\n",
            "Epoch 2700/10000 - Loss: 0.0007, Accuracy: 1.0000\n",
            "Epoch 2800/10000 - Loss: 0.0006, Accuracy: 1.0000\n",
            "Epoch 2900/10000 - Loss: 0.0006, Accuracy: 1.0000\n",
            "Epoch 3000/10000 - Loss: 0.0006, Accuracy: 1.0000\n",
            "Epoch 3100/10000 - Loss: 0.0005, Accuracy: 1.0000\n",
            "Epoch 3200/10000 - Loss: 0.0005, Accuracy: 1.0000\n",
            "Epoch 3300/10000 - Loss: 0.0007, Accuracy: 1.0000\n",
            "Epoch 3400/10000 - Loss: 0.0006, Accuracy: 1.0000\n",
            "Epoch 3500/10000 - Loss: 0.0006, Accuracy: 1.0000\n",
            "Epoch 3600/10000 - Loss: 0.0005, Accuracy: 1.0000\n",
            "Epoch 3700/10000 - Loss: 0.0005, Accuracy: 1.0000\n",
            "Epoch 3800/10000 - Loss: 0.0004, Accuracy: 1.0000\n",
            "Epoch 3900/10000 - Loss: 0.0004, Accuracy: 1.0000\n",
            "Epoch 4000/10000 - Loss: 0.0004, Accuracy: 1.0000\n",
            "Epoch 4100/10000 - Loss: 0.0004, Accuracy: 1.0000\n",
            "Epoch 4200/10000 - Loss: 0.0004, Accuracy: 1.0000\n",
            "Epoch 4300/10000 - Loss: 0.0004, Accuracy: 1.0000\n",
            "Epoch 4400/10000 - Loss: 0.0004, Accuracy: 1.0000\n",
            "Epoch 4500/10000 - Loss: 0.0003, Accuracy: 1.0000\n",
            "Epoch 4600/10000 - Loss: 0.0003, Accuracy: 1.0000\n",
            "Epoch 4700/10000 - Loss: 0.0003, Accuracy: 1.0000\n",
            "Epoch 4800/10000 - Loss: 0.0003, Accuracy: 1.0000\n",
            "Epoch 4900/10000 - Loss: 0.0003, Accuracy: 1.0000\n",
            "Epoch 5000/10000 - Loss: 0.0003, Accuracy: 1.0000\n",
            "Epoch 5100/10000 - Loss: 0.0003, Accuracy: 1.0000\n",
            "Epoch 5200/10000 - Loss: 0.0003, Accuracy: 1.0000\n",
            "Epoch 5300/10000 - Loss: 0.0003, Accuracy: 1.0000\n",
            "Epoch 5400/10000 - Loss: 0.0003, Accuracy: 1.0000\n",
            "Epoch 5500/10000 - Loss: 0.0003, Accuracy: 1.0000\n",
            "Epoch 5600/10000 - Loss: 0.0002, Accuracy: 1.0000\n",
            "Epoch 5700/10000 - Loss: 0.0002, Accuracy: 1.0000\n",
            "Epoch 5800/10000 - Loss: 0.0002, Accuracy: 1.0000\n",
            "Epoch 5900/10000 - Loss: 0.0002, Accuracy: 1.0000\n",
            "Epoch 6000/10000 - Loss: 0.0002, Accuracy: 1.0000\n",
            "Epoch 6100/10000 - Loss: 0.0002, Accuracy: 1.0000\n",
            "Epoch 6200/10000 - Loss: 0.0002, Accuracy: 1.0000\n",
            "Epoch 6300/10000 - Loss: 0.0002, Accuracy: 1.0000\n",
            "Epoch 6400/10000 - Loss: 0.0002, Accuracy: 1.0000\n",
            "Epoch 6500/10000 - Loss: 0.0002, Accuracy: 1.0000\n",
            "Epoch 6600/10000 - Loss: 0.0002, Accuracy: 1.0000\n",
            "Epoch 6700/10000 - Loss: 0.0002, Accuracy: 1.0000\n",
            "Epoch 6800/10000 - Loss: 0.0002, Accuracy: 1.0000\n",
            "Epoch 6900/10000 - Loss: 0.0002, Accuracy: 1.0000\n",
            "Epoch 7000/10000 - Loss: 0.0002, Accuracy: 1.0000\n",
            "Epoch 7100/10000 - Loss: 0.0002, Accuracy: 1.0000\n",
            "Epoch 7200/10000 - Loss: 0.0002, Accuracy: 1.0000\n",
            "Epoch 7300/10000 - Loss: 0.0002, Accuracy: 1.0000\n",
            "Epoch 7400/10000 - Loss: 0.0002, Accuracy: 1.0000\n",
            "Epoch 7500/10000 - Loss: 0.0002, Accuracy: 1.0000\n",
            "Epoch 7600/10000 - Loss: 0.0002, Accuracy: 1.0000\n",
            "Epoch 7700/10000 - Loss: 0.0002, Accuracy: 1.0000\n",
            "Epoch 7800/10000 - Loss: 0.0002, Accuracy: 1.0000\n",
            "Epoch 7900/10000 - Loss: 0.0002, Accuracy: 1.0000\n",
            "Epoch 8000/10000 - Loss: 0.0002, Accuracy: 1.0000\n",
            "Epoch 8100/10000 - Loss: 0.0002, Accuracy: 1.0000\n",
            "Epoch 8200/10000 - Loss: 0.0002, Accuracy: 1.0000\n",
            "Epoch 8300/10000 - Loss: 0.0001, Accuracy: 1.0000\n",
            "Epoch 8400/10000 - Loss: 0.0001, Accuracy: 1.0000\n",
            "Epoch 8500/10000 - Loss: 0.0001, Accuracy: 1.0000\n",
            "Epoch 8600/10000 - Loss: 0.0001, Accuracy: 1.0000\n",
            "Epoch 8700/10000 - Loss: 0.0001, Accuracy: 1.0000\n",
            "Epoch 8800/10000 - Loss: 0.0001, Accuracy: 1.0000\n",
            "Epoch 8900/10000 - Loss: 0.0001, Accuracy: 1.0000\n",
            "Epoch 9000/10000 - Loss: 0.0001, Accuracy: 1.0000\n",
            "Epoch 9100/10000 - Loss: 0.0001, Accuracy: 1.0000\n",
            "Epoch 9200/10000 - Loss: 0.0001, Accuracy: 1.0000\n",
            "Epoch 9300/10000 - Loss: 0.0001, Accuracy: 1.0000\n",
            "Epoch 9400/10000 - Loss: 0.0001, Accuracy: 1.0000\n",
            "Epoch 9500/10000 - Loss: 0.0001, Accuracy: 1.0000\n",
            "Epoch 9600/10000 - Loss: 0.0001, Accuracy: 1.0000\n",
            "Epoch 9700/10000 - Loss: 0.0001, Accuracy: 1.0000\n",
            "Epoch 9800/10000 - Loss: 0.0001, Accuracy: 1.0000\n",
            "Epoch 9900/10000 - Loss: 0.0001, Accuracy: 1.0000\n"
          ]
        }
      ]
    },
    {
      "cell_type": "code",
      "source": [
        "fig, ax = plt.subplots(1, 2, figsize=(14, 6))\n",
        "\n",
        "# Plot the error\n",
        "ax[0].plot(err)\n",
        "ax[0].set_xlabel('Epochs')\n",
        "ax[0].set_ylabel('Categorical Cross-Entropy Loss')\n",
        "ax[0].set_title('Training Loss')\n",
        "\n",
        "# Plot the accuracy\n",
        "ax[1].plot(acc)\n",
        "ax[1].set_xlabel('Epochs')\n",
        "ax[1].set_ylabel('Accuracy')\n",
        "ax[1].set_title('Training Accuracy')\n",
        "\n",
        "plt.show()"
      ],
      "metadata": {
        "colab": {
          "base_uri": "https://localhost:8080/",
          "height": 564
        },
        "id": "9C-nBBNdIzub",
        "outputId": "7d6947b7-7bdb-46bc-db2a-74b608f8ad25"
      },
      "execution_count": null,
      "outputs": [
        {
          "output_type": "display_data",
          "data": {
            "text/plain": [
              "<Figure size 1400x600 with 2 Axes>"
            ],
            "image/png": "[encoded data removed]"
          },
          "metadata": {}
        }
      ]
    },
    {
      "cell_type": "code",
      "source": [
        "y_test_pred = NN.feedForward(X_test_normalized)\n",
        "\n",
        "test_loss = categorical_cross_entropy(y_test, y_test_pred)\n",
        "test_accuracy = accuracy(y_test, y_test_pred)\n",
        "\n",
        "print(f\"Test Loss: {test_loss:.4f}\")\n",
        "print(f\"Test Accuracy: {test_accuracy:.2%}\")"
      ],
      "metadata": {
        "colab": {
          "base_uri": "https://localhost:8080/"
        },
        "id": "6ZW7niGlI-no",
        "outputId": "00e71064-3a01-46ed-9767-98007ec450f0"
      },
      "execution_count": null,
      "outputs": [
        {
          "output_type": "stream",
          "name": "stdout",
          "text": [
            "Test Loss: 0.0004\n",
            "Test Accuracy: 100.00%\n"
          ]
        }
      ]
    },
    {
      "cell_type": "markdown",
      "source": [
        "# **CONFUSION MATRIX**"
      ],
      "metadata": {
        "id": "VZKR2kvM6W7x"
      }
    },
    {
      "cell_type": "code",
      "source": [
        "from sklearn.metrics import confusion_matrix, ConfusionMatrixDisplay\n",
        "\n",
        "y_test_pred_labels = np.argmax(y_test_pred, axis=1)\n",
        "y_test_labels = np.argmax(y_test, axis=1)\n",
        "\n",
        "# Create confusion matrix\n",
        "cm = confusion_matrix(y_test_labels, y_test_pred_labels)\n",
        "\n",
        "# Plot confusion matrix\n",
        "disp = ConfusionMatrixDisplay(confusion_matrix=cm, display_labels=labels)\n",
        "disp.plot(cmap='Blues', xticks_rotation=45)\n",
        "plt.title('Confusion Matrix')\n",
        "plt.show()"
      ],
      "metadata": {
        "colab": {
          "base_uri": "https://localhost:8080/",
          "height": 512
        },
        "id": "2RUkAAlYI45z",
        "outputId": "1c516151-e03c-4d2a-deb5-76e7becfd325"
      },
      "execution_count": null,
      "outputs": [
        {
          "output_type": "display_data",
          "data": {
            "text/plain": [
              "<Figure size 640x480 with 2 Axes>"
            ],
            "image/png": "[encoded data removed]"
          },
          "metadata": {}
        }
      ]
    }
  ]
}